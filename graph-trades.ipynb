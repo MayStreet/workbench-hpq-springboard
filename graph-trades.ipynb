{
 "cells": [
  {
   "cell_type": "code",
   "execution_count": null,
   "metadata": {},
   "outputs": [],
   "source": [
    "import sys\n",
    "\n",
    "!{sys.executable} -m pip install ijson"
   ]
  },
  {
   "cell_type": "code",
   "execution_count": null,
   "metadata": {},
   "outputs": [],
   "source": [
    "import datetime\n",
    "import hpq\n",
    "import ijson\n",
    "\n",
    "start = datetime.datetime.fromtimestamp(1663281000, datetime.timezone.utc)\n",
    "end = datetime.datetime.fromtimestamp(1663367400, datetime.timezone.utc)\n",
    "connection = hpq.create_web_socket_client()\n",
    "request = {\n",
    "    \"query\": \"ticks\",\n",
    "    \"source\": \"impact_chi1_fod\",\n",
    "    \"messages\": [\"TRD\"],\n",
    "    \"product\": \"SB  FMV0022-SB  FMH0023\",\n",
    "    \"time_zone\": \"UTC\",\n",
    "    \"start_date\": start.strftime(\"%Y-%m-%d\"),\n",
    "    \"end_date\": end.strftime(\"%Y-%m-%d\"),\n",
    "    \"start_time\": start.strftime(\"%H:%M:%S\"),\n",
    "    \"end_time\": end.strftime(\"%H:%M:%S\"),\n",
    "}\n",
    "results = {\"prices\": [], \"quantities\": [], \"timestamps\": []}\n",
    "for trade in ijson.items(connection.stream(request), \"item\"):\n",
    "    results[\"prices\"].append(trade[\"price\"])\n",
    "    results[\"quantities\"].append(trade[\"quantity\"])\n",
    "    results[\"timestamps\"].append(\n",
    "        datetime.datetime.fromtimestamp(\n",
    "            trade[\"exchange_timestamp\"] / 1000000000, datetime.timezone.utc\n",
    "        )\n",
    "    )"
   ]
  },
  {
   "cell_type": "code",
   "execution_count": null,
   "metadata": {},
   "outputs": [],
   "source": [
    "import datetime\n",
    "\n",
    "import matplotlib.pyplot as plt\n",
    "import matplotlib.dates as mdates\n",
    "\n",
    "plt.rcParams[\"figure.figsize\"] = [10, 5]\n",
    "\n",
    "fig, ax = plt.subplots()\n",
    "\n",
    "fig.patch.set_facecolor((1, 1, 1))\n",
    "\n",
    "ax.grid(True)\n",
    "\n",
    "ax.set_title(\"SB  FMV0022-SB  FMH0023 trades, 2022-09-16\")\n",
    "ax.set_ylabel(\"Price\")\n",
    "ax.set_xlabel(\"Hour\")\n",
    "\n",
    "ax.set_ylim(0.25, 0.4)\n",
    "\n",
    "ax.xaxis.set_major_formatter(mdates.DateFormatter(\"%H\"))\n",
    "\n",
    "plt.plot(results[\"timestamps\"], results[\"prices\"])\n",
    "plt.show()"
   ]
  }
 ],
 "metadata": {
  "kernelspec": {
   "display_name": "Python 3.8.10 ('.virtualenv': venv)",
   "language": "python",
   "name": "python3"
  },
  "language_info": {
   "codemirror_mode": {
    "name": "ipython",
    "version": 3
   },
   "file_extension": ".py",
   "mimetype": "text/x-python",
   "name": "python",
   "nbconvert_exporter": "python",
   "pygments_lexer": "ipython3",
   "version": "3.8.10"
  },
  "orig_nbformat": 4,
  "vscode": {
   "interpreter": {
    "hash": "0ea2b8895e81fdf91d242a88ba5aeb28630840827d8cbcc101eed9e19ad7d7de"
   }
  }
 },
 "nbformat": 4,
 "nbformat_minor": 2
}
