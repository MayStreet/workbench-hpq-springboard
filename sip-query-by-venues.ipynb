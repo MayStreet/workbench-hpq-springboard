{
 "cells": [
  {
   "cell_type": "markdown",
   "metadata": {},
   "source": [
    "# Setup\n",
    "\n",
    "Run the following cell before any other to provide the necessary variables, classes, and imports."
   ]
  },
  {
   "cell_type": "code",
   "execution_count": null,
   "metadata": {},
   "outputs": [],
   "source": [
    "import hpq\n",
    "import datetime\n",
    "import ijson\n",
    "\n",
    "# 2022-12-30 14:55:00+00:00\n",
    "start = datetime.datetime.fromtimestamp(1672412100, datetime.timezone.utc)\n",
    "# 2022-12-30 15:00:00+00:00\n",
    "end = datetime.datetime.fromtimestamp(1672412400, datetime.timezone.utc)\n",
    "connection = hpq.create_web_socket_client()\n",
    "request = {\n",
    "    \"query\": \"ticks\",\n",
    "    \"source\": \"\",\n",
    "    \"messages\": [\"TRD\"],\n",
    "    \"product\": \"XOM\",\n",
    "    \"time_zone\": \"UTC\",\n",
    "    \"start_date\": start.strftime(\"%Y-%m-%d\"),\n",
    "    \"end_date\": end.strftime(\"%Y-%m-%d\"),\n",
    "    \"start_time\": start.strftime(\"%H:%M:%S\"),\n",
    "    \"end_time\": end.strftime(\"%H:%M:%S\"),\n",
    "}\n",
    "\n",
    "\n",
    "class Results:\n",
    "    def __init__(self):\n",
    "        self.prices = []\n",
    "        self.quantities = []\n",
    "        self.timestamps = []\n",
    "\n",
    "\n",
    "def tabulate(req):\n",
    "    results = Results()\n",
    "    for trade in ijson.items(connection.stream(request), \"item\"):\n",
    "        results.prices.append(trade[\"price\"])\n",
    "        results.quantities.append(trade[\"quantity\"])\n",
    "        time = datetime.datetime.fromtimestamp(\n",
    "            trade[\"receipt_timestamp\"] / 1000000000, datetime.timezone.utc\n",
    "        )\n",
    "        results.timestamps.append(time)\n",
    "    return results\n",
    "\n",
    "\n",
    "import matplotlib.pyplot as plt\n",
    "import matplotlib.dates as mdates"
   ]
  },
  {
   "cell_type": "markdown",
   "metadata": {},
   "source": [
    "# Trade Prices for Individual Participants\n",
    "\n",
    "Generates a graph of trade prices for XOM.\n",
    "\n",
    "Note that the square bracket syntax requests ticks from only certain SIP participants."
   ]
  },
  {
   "cell_type": "code",
   "execution_count": null,
   "metadata": {},
   "outputs": [],
   "source": [
    "plt.rcParams[\"figure.figsize\"] = [10, 5]\n",
    "\n",
    "fig, ax = plt.subplots()\n",
    "\n",
    "fig.patch.set_facecolor((1, 1, 1))\n",
    "\n",
    "ax.grid(True)\n",
    "\n",
    "ax.set_title(\"XOM trades, 2022-12-30\")\n",
    "ax.set_ylabel(\"Price\")\n",
    "ax.set_xlabel(\"Time\")\n",
    "\n",
    "ax.set_ylim(109.00, 109.35)\n",
    "\n",
    "ax.xaxis.set_major_formatter(mdates.DateFormatter(\"%H:%M:%S\"))\n",
    "\n",
    "# get ticks data from the nyse venue\n",
    "request[\"source\"] = \"sip[nyse]\"\n",
    "nyse_results = tabulate(request)\n",
    "plt.plot(nyse_results.timestamps, nyse_results.prices, label=\"NYSE\")\n",
    "# get ticks data from the bats venue\n",
    "request[\"source\"] = \"sip[bats]\"\n",
    "bats_results = tabulate(request)\n",
    "plt.plot(bats_results.timestamps, bats_results.prices, label=\"BATS\")\n",
    "# get ticks data from the memx venue\n",
    "request[\"source\"] = \"sip[memx]\"\n",
    "memx_results = tabulate(request)\n",
    "plt.plot(memx_results.timestamps, memx_results.prices, label=\"MEMX\")\n",
    "plt.legend()\n",
    "plt.show()"
   ]
  },
  {
   "cell_type": "markdown",
   "metadata": {},
   "source": [
    "# Trade Prices for Individual Participants\n",
    "\n",
    "Generates a graph of trade prices for XOM.\n",
    "\n",
    "Note that the square bracket syntax requests ticks from a combination of SIP participants."
   ]
  },
  {
   "cell_type": "code",
   "execution_count": null,
   "metadata": {},
   "outputs": [],
   "source": [
    "fig, ax = plt.subplots()\n",
    "\n",
    "fig.patch.set_facecolor((1, 1, 1))\n",
    "\n",
    "ax.grid(True)\n",
    "\n",
    "ax.set_title(\"XOM trades, 2022-12-30\")\n",
    "ax.set_ylabel(\"Price\")\n",
    "ax.set_xlabel(\"Time\")\n",
    "\n",
    "ax.set_ylim(109.00, 109.35)\n",
    "\n",
    "ax.xaxis.set_major_formatter(mdates.DateFormatter(\"%H:%M:%S\"))\n",
    "\n",
    "# get ticks data from the memx venue\n",
    "request[\"source\"] = \"sip[memx]\"\n",
    "memx_results = tabulate(request)\n",
    "plt.plot(memx_results.timestamps, memx_results.prices, label=\"MEMX\")\n",
    "\n",
    "# get ticks data from the bats and nyse venues\n",
    "request[\"source\"] = \"sip[nyse,bats]\"\n",
    "bats_nyse_results = tabulate(request)\n",
    "plt.plot(bats_nyse_results.timestamps, bats_nyse_results.prices, label=\"BATS & NYSE\")\n",
    "plt.legend()\n",
    "plt.show()"
   ]
  },
  {
   "cell_type": "markdown",
   "metadata": {},
   "source": [
    "# Trade Prices for Individual Participants\n",
    "\n",
    "Generates a graph of trade prices for XOM.\n",
    "\n",
    "Note that the lack of square bracket syntax requests ticks from all the SIP participants."
   ]
  },
  {
   "cell_type": "code",
   "execution_count": null,
   "metadata": {},
   "outputs": [],
   "source": [
    "fig, ax = plt.subplots()\n",
    "\n",
    "fig.patch.set_facecolor((1, 1, 1))\n",
    "\n",
    "ax.grid(True)\n",
    "\n",
    "ax.set_title(\"XOM trades, 2022-12-30\")\n",
    "ax.set_ylabel(\"Price\")\n",
    "ax.set_xlabel(\"Time\")\n",
    "\n",
    "ax.set_ylim(109.00, 109.35)\n",
    "\n",
    "ax.xaxis.set_major_formatter(mdates.DateFormatter(\"%H:%M:%S\"))\n",
    "\n",
    "# get ticks data from the memx venue\n",
    "request[\"source\"] = \"sip[memx]\"\n",
    "memx_results = tabulate(request)\n",
    "plt.plot(memx_results.timestamps, memx_results.prices, label=\"MEMX\")\n",
    "\n",
    "# get ticks data from all the sip venues\n",
    "request[\"source\"] = \"sip\"\n",
    "bats_nyse_results = tabulate(request)\n",
    "plt.plot(bats_nyse_results.timestamps, bats_nyse_results.prices, label=\"All Venues\")\n",
    "plt.legend()\n",
    "plt.show()"
   ]
  }
 ],
 "metadata": {
  "kernelspec": {
   "display_name": "Python 3.8.10 ('.virtualenv': venv)",
   "language": "python",
   "name": "python3"
  },
  "language_info": {
   "codemirror_mode": {
    "name": "ipython",
    "version": 3
   },
   "file_extension": ".py",
   "mimetype": "text/x-python",
   "name": "python",
   "nbconvert_exporter": "python",
   "pygments_lexer": "ipython3",
   "version": "3.8.10"
  },
  "orig_nbformat": 4,
  "vscode": {
   "interpreter": {
    "hash": "0ea2b8895e81fdf91d242a88ba5aeb28630840827d8cbcc101eed9e19ad7d7de"
   }
  }
 },
 "nbformat": 4,
 "nbformat_minor": 2
}
