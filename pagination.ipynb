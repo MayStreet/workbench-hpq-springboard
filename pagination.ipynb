{
 "cells": [
  {
   "cell_type": "markdown",
   "metadata": {},
   "source": [
    "# Page-By-Page\n",
    "\n",
    "This example consists of two cells:\n",
    "\n",
    "- The first sets up the context needed to traverse a result set page-by-page, no requests are made by this cell, it must be run first and anytime it is run thereafter it resets the pagination of the following cell\n",
    "- The second retrieves the next page and formats it in a table, run this cell repeatedly to see each page in the result set\n",
    "\n",
    "Note that since the pagination technique streams results and ignores the response body beyond the amount required for the current page the connection must be canceled after each page to reset the connection to the HPQ API back into the state necessary for it to be reused for the next request."
   ]
  },
  {
   "cell_type": "code",
   "execution_count": null,
   "metadata": {},
   "outputs": [],
   "source": [
    "import hpq\n",
    "\n",
    "i = 1\n",
    "conn = hpq.create_web_socket_client()\n",
    "page = hpq.Page(\n",
    "    conn,\n",
    "    {\n",
    "        \"query\": \"ticks\",\n",
    "        \"source\": \"cme\",\n",
    "        \"product\": \"NGX2\",\n",
    "        \"date\": \"2022-09-22\",\n",
    "        \"start_time\": \"22:00:00\",\n",
    "        \"end_time\": \"22:15:00\",\n",
    "        \"time_zone\": \"UTC\",\n",
    "        \"messages\": [\"TRD\"],\n",
    "    },\n",
    "    10,\n",
    ")"
   ]
  },
  {
   "cell_type": "code",
   "execution_count": null,
   "metadata": {},
   "outputs": [],
   "source": [
    "import IPython.display\n",
    "import hpq\n",
    "import tabulate\n",
    "\n",
    "if page is not None:\n",
    "    IPython.display.display(IPython.display.HTML(f\"<h1>Page {i}</h1>\"))\n",
    "    i += 1\n",
    "    data = list(map(hpq.format, page))\n",
    "    table = tabulate.tabulate(data, tablefmt=\"html\", headers=\"keys\")\n",
    "    IPython.display.display(IPython.display.HTML(table))\n",
    "    conn.cancel()\n",
    "    page = page.next_page(conn)"
   ]
  },
  {
   "cell_type": "markdown",
   "metadata": {},
   "source": [
    "# All Pages\n",
    "\n",
    "Traverses all pages of a result set and formats each one. Note:\n",
    "\n",
    "- Pagination is not achieved by chunking the response to a single request but rather by making a request for each page (the same connection is reused for all requests, cancelation is handled internally in this example)\n",
    "- The paginated result set includes a client side filter (that displayed trades be printable), despite the fact that the response sent by the server includes results which are filtered out the pagination is still as expected (since no pagination logic lives on the server side)"
   ]
  },
  {
   "cell_type": "code",
   "execution_count": null,
   "metadata": {},
   "outputs": [],
   "source": [
    "import IPython.display\n",
    "import hpq\n",
    "import tabulate\n",
    "\n",
    "i = 1\n",
    "for page in hpq.Pages(\n",
    "    hpq.create_web_socket_client(),\n",
    "    {\n",
    "        \"query\": \"ticks\",\n",
    "        \"source\": \"cme\",\n",
    "        \"product\": \"NGX2\",\n",
    "        \"date\": \"2022-09-22\",\n",
    "        \"start_time\": \"22:00:00\",\n",
    "        \"end_time\": \"22:15:00\",\n",
    "        \"time_zone\": \"UTC\",\n",
    "        \"messages\": [\"TRD\"],\n",
    "    },\n",
    "    10,\n",
    "    lambda trade: trade[\"printable\"],\n",
    "):\n",
    "    IPython.display.display(IPython.display.HTML(f\"<h1>Page {i}</h1>\"))\n",
    "    i += 1\n",
    "    data = list(map(hpq.format, page))\n",
    "    table = tabulate.tabulate(data, tablefmt=\"html\", headers=\"keys\")\n",
    "    IPython.display.display(IPython.display.HTML(table))"
   ]
  }
 ],
 "metadata": {
  "kernelspec": {
   "display_name": "Python 3.8.10 ('.virtualenv': venv)",
   "language": "python",
   "name": "python3"
  },
  "language_info": {
   "codemirror_mode": {
    "name": "ipython",
    "version": 3
   },
   "file_extension": ".py",
   "mimetype": "text/x-python",
   "name": "python",
   "nbconvert_exporter": "python",
   "pygments_lexer": "ipython3",
   "version": "3.8.10"
  },
  "orig_nbformat": 4,
  "vscode": {
   "interpreter": {
    "hash": "0ea2b8895e81fdf91d242a88ba5aeb28630840827d8cbcc101eed9e19ad7d7de"
   }
  }
 },
 "nbformat": 4,
 "nbformat_minor": 2
}
