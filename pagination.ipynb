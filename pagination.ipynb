{
 "cells": [
  {
   "cell_type": "code",
   "execution_count": null,
   "metadata": {},
   "outputs": [],
   "source": [
    "import sys\n",
    "!{sys.executable} -m pip install ijson tabulate"
   ]
  },
  {
   "cell_type": "code",
   "execution_count": null,
   "metadata": {},
   "outputs": [],
   "source": [
    "import hpq\n",
    "\n",
    "i = 1\n",
    "conn = hpq.create_web_socket_client()\n",
    "page = hpq.Page(conn, {\n",
    "    \"query\": \"ticks\",\n",
    "    \"source\": \"cme\",\n",
    "    \"product\": \"NGX2\",\n",
    "    \"date\": \"2022-09-22\",\n",
    "    \"start_time\": \"22:00:00\",\n",
    "    \"end_time\": \"22:15:00\",\n",
    "    \"time_zone\": \"UTC\",\n",
    "    \"messages\": [\"TRD\"]\n",
    "}, 10)"
   ]
  },
  {
   "cell_type": "code",
   "execution_count": null,
   "metadata": {},
   "outputs": [],
   "source": [
    "import IPython.display\n",
    "import hpq\n",
    "import tabulate\n",
    "\n",
    "if page is not None:\n",
    "    IPython.display.display(IPython.display.HTML(f\"<h1>Page {i}</h1>\"))\n",
    "    i += 1\n",
    "    data = list(map(hpq.format, page))\n",
    "    table = tabulate.tabulate(data, tablefmt = 'html', headers = 'keys')\n",
    "    IPython.display.display(IPython.display.HTML(table))\n",
    "    conn.cancel()\n",
    "    page = page.next_page(conn)"
   ]
  },
  {
   "cell_type": "code",
   "execution_count": null,
   "metadata": {},
   "outputs": [],
   "source": [
    "import IPython.display\n",
    "import hpq\n",
    "import tabulate\n",
    "\n",
    "i = 1\n",
    "for page in hpq.Pages(hpq.create_web_socket_client(), {\n",
    "    \"query\": \"ticks\",\n",
    "    \"source\": \"cme\",\n",
    "    \"product\": \"NGX2\",\n",
    "    \"date\": \"2022-09-22\",\n",
    "    \"start_time\": \"22:00:00\",\n",
    "    \"end_time\": \"22:15:00\",\n",
    "    \"time_zone\": \"UTC\",\n",
    "    \"messages\": [\"TRD\"]\n",
    "}, 10, lambda trade: trade['printable']):\n",
    "    IPython.display.display(IPython.display.HTML(f\"<h1>Page {i}</h1>\"))\n",
    "    i += 1\n",
    "    data = list(map(hpq.format, page))\n",
    "    table = tabulate.tabulate(data, tablefmt = 'html', headers = 'keys')\n",
    "    IPython.display.display(IPython.display.HTML(table))"
   ]
  }
 ],
 "metadata": {
  "kernelspec": {
   "display_name": "Python 3.8.10 ('.virtualenv': venv)",
   "language": "python",
   "name": "python3"
  },
  "language_info": {
   "codemirror_mode": {
    "name": "ipython",
    "version": 3
   },
   "file_extension": ".py",
   "mimetype": "text/x-python",
   "name": "python",
   "nbconvert_exporter": "python",
   "pygments_lexer": "ipython3",
   "version": "3.8.10"
  },
  "orig_nbformat": 4,
  "vscode": {
   "interpreter": {
    "hash": "0ea2b8895e81fdf91d242a88ba5aeb28630840827d8cbcc101eed9e19ad7d7de"
   }
  }
 },
 "nbformat": 4,
 "nbformat_minor": 2
}
