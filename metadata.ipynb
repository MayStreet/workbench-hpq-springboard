{
 "cells": [
  {
   "cell_type": "markdown",
   "metadata": {},
   "source": [
    "# Setup\n",
    "\n",
    "Provides a function which is used by all remaining cells."
   ]
  },
  {
   "cell_type": "code",
   "execution_count": null,
   "metadata": {},
   "outputs": [],
   "source": [
    "import datetime\n",
    "import hpq\n",
    "\n",
    "\n",
    "def format(obj):\n",
    "    dt = datetime.datetime.utcfromtimestamp(obj[\"last_tradable_date\"] / 1000000000)\n",
    "    obj[\"last_tradable_date\"] = dt.strftime(\"%Y-%m-%d\")\n",
    "    #   Always false for metadata\n",
    "    del obj[\"implied\"]\n",
    "    return hpq.format(obj)"
   ]
  },
  {
   "cell_type": "markdown",
   "metadata": {},
   "source": [
    "# Filter\n",
    "\n",
    "Downloads all metadata for all products for the trading date of 2022-09-16 for the CME selecting only those which are spreads with exactly the following product IDs as legs:\n",
    "\n",
    "- 293009\n",
    "- 457947\n",
    "- 514348\n",
    "\n",
    "Then displays the matching metadata in a table. Note that downloading and filtering all metadata for all products on the CME may take some time as there are hundreds of thousands of products on the CME each day."
   ]
  },
  {
   "cell_type": "code",
   "execution_count": null,
   "metadata": {},
   "outputs": [],
   "source": [
    "import hpq\n",
    "import ijson\n",
    "import IPython.display\n",
    "import tabulate\n",
    "\n",
    "connection = hpq.create_web_socket_client()\n",
    "desired = [293009, 457947, 514348]\n",
    "\n",
    "\n",
    "def predicate(product):\n",
    "    if not \"legs\" in product.keys():\n",
    "        return False\n",
    "    legs = product[\"legs\"]\n",
    "    if len(legs) != 3:\n",
    "        return False\n",
    "    for leg in legs:\n",
    "        if leg[\"product_id\"] not in desired:\n",
    "            return False\n",
    "    return True\n",
    "\n",
    "\n",
    "def transform(product):\n",
    "    #   Doesn't display well in table since it's an array\n",
    "    del product[\"legs\"]\n",
    "    return format(product)\n",
    "\n",
    "\n",
    "products = list(\n",
    "    map(\n",
    "        transform,\n",
    "        filter(\n",
    "            predicate,\n",
    "            ijson.items(\n",
    "                connection.stream(\n",
    "                    {\n",
    "                        \"query\": \"products\",\n",
    "                        \"source\": [\"cme\"],\n",
    "                        \"date\": \"2022-09-16\",\n",
    "                        \"type\": \"metadata\",\n",
    "                    }\n",
    "                ),\n",
    "                \"item\",\n",
    "            ),\n",
    "        ),\n",
    "    )\n",
    ")\n",
    "table = tabulate.tabulate(products, tablefmt=\"html\", headers=\"keys\")\n",
    "IPython.display.display(IPython.display.HTML(table))"
   ]
  },
  {
   "cell_type": "markdown",
   "metadata": {},
   "source": [
    "# Snapshot\n",
    "\n",
    "Retrieves a summary of the metadata for products with the following IDs:\n",
    "\n",
    "- 293009\n",
    "- 457947\n",
    "- 514348\n",
    "\n",
    "as of 2022-09-16T17:30:00ET. Note:\n",
    "\n",
    "- The above product IDs are the same product IDs which were expected as legs in the preceding cell\n",
    "- Specifying not just a date but a time is necessary when retrieving product metadata due to the fact metadata may be updated intra-day\n",
    "\n",
    "Once retrieved the product metadata will be formatted as a table. Note that the cell makes three separate requests to the HPQ API but the same connection is reused for all three."
   ]
  },
  {
   "cell_type": "code",
   "execution_count": null,
   "metadata": {},
   "outputs": [],
   "source": [
    "import hpq\n",
    "import ijson\n",
    "import IPython.display\n",
    "import tabulate\n",
    "\n",
    "connection = hpq.create_web_socket_client()\n",
    "products = []\n",
    "for id in [293009, 457947, 514348]:\n",
    "    for metadata in ijson.items(\n",
    "        connection.stream(\n",
    "            {\n",
    "                \"query\": \"snapshot\",\n",
    "                \"type\": \"productinfo\",\n",
    "                \"date\": \"2022-09-16\",\n",
    "                \"time\": \"17:30:00\",\n",
    "                \"source\": \"cme\",\n",
    "                \"product\": str(id),\n",
    "            }\n",
    "        ),\n",
    "        \"item\",\n",
    "    ):\n",
    "        #   Doesn't display well in table since it's an array\n",
    "        del metadata[\"underlyings\"]\n",
    "        products.append(format(metadata))\n",
    "table = tabulate.tabulate(products, tablefmt=\"html\", headers=\"keys\")\n",
    "IPython.display.display(IPython.display.HTML(table))"
   ]
  }
 ],
 "metadata": {
  "kernelspec": {
   "display_name": "Python 3.8.10 ('.virtualenv': venv)",
   "language": "python",
   "name": "python3"
  },
  "language_info": {
   "codemirror_mode": {
    "name": "ipython",
    "version": 3
   },
   "file_extension": ".py",
   "mimetype": "text/x-python",
   "name": "python",
   "nbconvert_exporter": "python",
   "pygments_lexer": "ipython3",
   "version": "3.8.10"
  },
  "orig_nbformat": 4,
  "vscode": {
   "interpreter": {
    "hash": "0ea2b8895e81fdf91d242a88ba5aeb28630840827d8cbcc101eed9e19ad7d7de"
   }
  }
 },
 "nbformat": 4,
 "nbformat_minor": 2
}
