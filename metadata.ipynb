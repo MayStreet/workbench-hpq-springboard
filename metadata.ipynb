{
 "cells": [
  {
   "cell_type": "code",
   "execution_count": null,
   "metadata": {},
   "outputs": [],
   "source": [
    "import sys\n",
    "!{sys.executable} -m pip install ijson tabulate\n",
    "\n",
    "import datetime\n",
    "import hpq\n",
    "\n",
    "def format(obj):\n",
    "    dt = datetime.datetime.utcfromtimestamp(obj['last_tradable_date'] / 1000000000)\n",
    "    obj['last_tradable_date'] = dt.strftime(\"%Y-%m-%d\")\n",
    "    #   Always false for metadata\n",
    "    del obj['implied']\n",
    "    return hpq.format(obj)"
   ]
  },
  {
   "cell_type": "code",
   "execution_count": null,
   "metadata": {},
   "outputs": [],
   "source": [
    "import hpq\n",
    "import ijson\n",
    "import IPython.display\n",
    "import tabulate\n",
    "\n",
    "connection = hpq.WebSocketClient()\n",
    "desired = [293009, 457947, 514348]\n",
    "def predicate(product):\n",
    "    if not 'legs' in product.keys():\n",
    "        return False\n",
    "    legs = product['legs']\n",
    "    if len(legs) != 3:\n",
    "        return False\n",
    "    for leg in legs:\n",
    "        if leg['product_id'] not in desired:\n",
    "            return False\n",
    "    return True\n",
    "def transform(product):\n",
    "    #   Doesn't display well in table since it's an array\n",
    "    del product['legs']\n",
    "    return format(product)\n",
    "products = list(map(transform, filter(predicate, ijson.items(connection.stream({\n",
    "    \"query\": \"products\",\n",
    "    \"source\": [\"cme\"],\n",
    "    \"date\": \"2022-09-16\",\n",
    "    \"type\": \"metadata\"\n",
    "}), 'item'))))\n",
    "table = tabulate.tabulate(products, tablefmt = 'html', headers = 'keys')\n",
    "IPython.display.display(IPython.display.HTML(table))"
   ]
  },
  {
   "cell_type": "code",
   "execution_count": null,
   "metadata": {},
   "outputs": [],
   "source": [
    "import hpq\n",
    "import ijson\n",
    "import IPython.display\n",
    "import tabulate\n",
    "\n",
    "connection = hpq.WebSocketClient()\n",
    "products = []\n",
    "for id in [293009, 457947, 514348]:\n",
    "    for metadata in ijson.items(connection.stream({\n",
    "        \"query\": \"snapshot\",\n",
    "        \"type\": \"productinfo\",\n",
    "        \"date\": \"2022-09-16\",\n",
    "        \"time\": \"17:30:00\",\n",
    "        \"source\": \"cme\",\n",
    "        \"product\": str(id)\n",
    "    }), 'item'):\n",
    "        #   Doesn't display well in table since it's an array\n",
    "        del metadata['underlyings']\n",
    "        products.append(format(metadata))\n",
    "table = tabulate.tabulate(products, tablefmt = 'html', headers = 'keys')\n",
    "IPython.display.display(IPython.display.HTML(table))"
   ]
  }
 ],
 "metadata": {
  "kernelspec": {
   "display_name": "Python 3.8.10 ('.virtualenv': venv)",
   "language": "python",
   "name": "python3"
  },
  "language_info": {
   "codemirror_mode": {
    "name": "ipython",
    "version": 3
   },
   "file_extension": ".py",
   "mimetype": "text/x-python",
   "name": "python",
   "nbconvert_exporter": "python",
   "pygments_lexer": "ipython3",
   "version": "3.8.10"
  },
  "orig_nbformat": 4,
  "vscode": {
   "interpreter": {
    "hash": "0ea2b8895e81fdf91d242a88ba5aeb28630840827d8cbcc101eed9e19ad7d7de"
   }
  }
 },
 "nbformat": 4,
 "nbformat_minor": 2
}
