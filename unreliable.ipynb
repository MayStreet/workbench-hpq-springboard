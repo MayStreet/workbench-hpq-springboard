{
 "cells": [
  {
   "cell_type": "markdown",
   "metadata": {},
   "source": [
    "# Setup\n",
    "\n",
    "These common variables, functions, and classes are used through the remainder of the example.\n",
    "\n",
    "Note the two functions which simulate an unreliable connection by, respectively, raising an exception 5% of the time instead of yielding:\n",
    "\n",
    "- A top level array element\n",
    "- A line of text"
   ]
  },
  {
   "cell_type": "code",
   "execution_count": null,
   "metadata": {},
   "outputs": [],
   "source": [
    "import ijson\n",
    "import io\n",
    "import random\n",
    "\n",
    "request = {\n",
    "    \"query\": \"ticks\",\n",
    "    \"source\": \"cme\",\n",
    "    \"product\": \"NGX2\",\n",
    "    \"date\": \"2022-09-22\",\n",
    "    \"start_time\": \"22:00:00\",\n",
    "    \"end_time\": \"22:15:00\",\n",
    "    \"time_zone\": \"UTC\",\n",
    "    \"messages\": [\"TRD\"],\n",
    "}\n",
    "\n",
    "\n",
    "class UnreliableStreamError(Exception):\n",
    "    def __init__(self):\n",
    "        super().__init__(\"Random failure\")\n",
    "\n",
    "\n",
    "def unreliable_stream_json(conn, request):\n",
    "    r = random.SystemRandom()\n",
    "    for obj in ijson.items(conn.stream(request), \"item\"):\n",
    "        num = r.random()\n",
    "        if num > 0.95:\n",
    "            raise UnreliableStreamError()\n",
    "        yield obj\n",
    "\n",
    "\n",
    "def unreliable_stream_lines(conn, request):\n",
    "    r = random.SystemRandom()\n",
    "    raw = conn.stream(request)\n",
    "    buffered = io.BufferedReader(raw)\n",
    "    stream = io.TextIOWrapper(buffered)\n",
    "    while True:\n",
    "        num = r.random()\n",
    "        if num > 0.95:\n",
    "            raise UnreliableStreamError()\n",
    "        line = stream.readline()\n",
    "        if line == \"\":\n",
    "            break\n",
    "        yield line"
   ]
  },
  {
   "cell_type": "markdown",
   "metadata": {},
   "source": [
    "# Reliable\n",
    "\n",
    "This example does not simulate an unreliable connection instead establishing ground truth (i.e. subsequent examples should generate identical output despite the simulated unreliable connection)."
   ]
  },
  {
   "cell_type": "code",
   "execution_count": null,
   "metadata": {},
   "outputs": [],
   "source": [
    "import hpq\n",
    "import ijson\n",
    "import IPython.display\n",
    "import tabulate\n",
    "\n",
    "rows = list(\n",
    "    map(hpq.format, ijson.items(hpq.create_web_socket_client().stream(request), \"item\"))\n",
    ")\n",
    "total = len(rows)\n",
    "IPython.display.display(\n",
    "    IPython.display.HTML(f\"<p>Transferred {total} unique updates</p>\")\n",
    ")\n",
    "table = tabulate.tabulate(rows, tablefmt=\"html\", headers=\"keys\")\n",
    "IPython.display.display(IPython.display.HTML(table))"
   ]
  },
  {
   "cell_type": "markdown",
   "metadata": {},
   "source": [
    "# Streaming JSON\n",
    "\n",
    "Uses a streaming JSON parser to form a reliable layer on top of a (simulated) unreliable connection. Each successive top level array element is not only yielded into the result set but also used to construct an `hpq.Position` object which is used to resume the request on failure."
   ]
  },
  {
   "cell_type": "code",
   "execution_count": null,
   "metadata": {},
   "outputs": [],
   "source": [
    "import hpq\n",
    "import IPython.display\n",
    "import tabulate\n",
    "\n",
    "pos = None\n",
    "rows = []\n",
    "transferred = 0\n",
    "restarts = 0\n",
    "while True:\n",
    "    try:\n",
    "        local_request = request\n",
    "        if pos is not None:\n",
    "            local_request = pos.request(local_request)\n",
    "        for obj in unreliable_stream_json(\n",
    "            hpq.create_web_socket_client(), local_request\n",
    "        ):\n",
    "            transferred += 1\n",
    "            if pos is not None and not pos.predicate(obj):\n",
    "                continue\n",
    "            pos = None\n",
    "            rows.append(obj)\n",
    "    except UnreliableStreamError:\n",
    "        if len(rows) != 0:\n",
    "            pos = hpq.Position(rows[len(rows) - 1])\n",
    "        restarts += 1\n",
    "        continue\n",
    "    break\n",
    "IPython.display.display(\n",
    "    IPython.display.HTML(f\"<p>Query restarted {restarts} times</p>\")\n",
    ")\n",
    "IPython.display.display(\n",
    "    IPython.display.HTML(f\"<p>Transferred {transferred} updates total</p>\")\n",
    ")\n",
    "total = len(rows)\n",
    "IPython.display.display(\n",
    "    IPython.display.HTML(f\"<p>Transferred {total} unique updates</p>\")\n",
    ")\n",
    "table = tabulate.tabulate(list(map(hpq.format, rows)), tablefmt=\"html\", headers=\"keys\")\n",
    "IPython.display.display(IPython.display.HTML(table))"
   ]
  },
  {
   "cell_type": "markdown",
   "metadata": {},
   "source": [
    "# JSON Lines\n",
    "\n",
    "Some environments may not have easy access to a streaming JSON parser. In this case the HPQ API's limited support for JSON Lines may be used.\n",
    "\n",
    "The following cell makes the same request as the preceding cells except it requests `application/x-ndjson` (i.e. JSON Lines) format. This causes each JSON object to be sent on its own line rather than as an element of a top level array. Parsing proceeds line-by-line with each lined parsed, yielded, and used to construct an `hpq.Position` object which may be used to resume the response on failure."
   ]
  },
  {
   "cell_type": "code",
   "execution_count": null,
   "metadata": {},
   "outputs": [],
   "source": [
    "import copy\n",
    "import hpq\n",
    "import json\n",
    "import IPython.display\n",
    "import tabulate\n",
    "\n",
    "request_with_format = copy.copy(request)\n",
    "request_with_format[\"format\"] = \"application/x-ndjson\"\n",
    "pos = None\n",
    "rows = []\n",
    "transferred = 0\n",
    "restarts = 0\n",
    "while True:\n",
    "    try:\n",
    "        local_request = request_with_format\n",
    "        if pos is not None:\n",
    "            local_request = pos.request(request_with_format)\n",
    "        for line in unreliable_stream_lines(\n",
    "            hpq.create_web_socket_client(), local_request\n",
    "        ):\n",
    "            transferred += 1\n",
    "            obj = json.loads(line)\n",
    "            if pos is not None and not pos.predicate(obj):\n",
    "                continue\n",
    "            pos = None\n",
    "            rows.append(obj)\n",
    "    except UnreliableStreamError:\n",
    "        if len(rows) != 0:\n",
    "            pos = hpq.Position(rows[len(rows) - 1])\n",
    "        restarts += 1\n",
    "        continue\n",
    "    break\n",
    "IPython.display.display(\n",
    "    IPython.display.HTML(f\"<p>Query restarted {restarts} times</p>\")\n",
    ")\n",
    "IPython.display.display(\n",
    "    IPython.display.HTML(f\"<p>Transferred {transferred} updates total</p>\")\n",
    ")\n",
    "total = len(rows)\n",
    "IPython.display.display(\n",
    "    IPython.display.HTML(f\"<p>Transferred {total} unique updates</p>\")\n",
    ")\n",
    "table = tabulate.tabulate(list(map(hpq.format, rows)), tablefmt=\"html\", headers=\"keys\")\n",
    "IPython.display.display(IPython.display.HTML(table))"
   ]
  }
 ],
 "metadata": {
  "kernelspec": {
   "display_name": "Python 3.8.10 ('.virtualenv': venv)",
   "language": "python",
   "name": "python3"
  },
  "language_info": {
   "codemirror_mode": {
    "name": "ipython",
    "version": 3
   },
   "file_extension": ".py",
   "mimetype": "text/x-python",
   "name": "python",
   "nbconvert_exporter": "python",
   "pygments_lexer": "ipython3",
   "version": "3.8.10"
  },
  "orig_nbformat": 4,
  "vscode": {
   "interpreter": {
    "hash": "0ea2b8895e81fdf91d242a88ba5aeb28630840827d8cbcc101eed9e19ad7d7de"
   }
  }
 },
 "nbformat": 4,
 "nbformat_minor": 2
}
