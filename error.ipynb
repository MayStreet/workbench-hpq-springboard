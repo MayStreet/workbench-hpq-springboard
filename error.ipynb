{
 "cells": [
  {
   "cell_type": "markdown",
   "metadata": {},
   "source": [
    "# Setup\n",
    "\n",
    "Run the below cell to provide two functions which will be used by later cells."
   ]
  },
  {
   "cell_type": "code",
   "execution_count": null,
   "metadata": {},
   "outputs": [],
   "source": [
    "import hpq\n",
    "import html\n",
    "import IPython.display\n",
    "import ijson\n",
    "import json\n",
    "import tabulate\n",
    "\n",
    "\n",
    "def impl(connection, query):\n",
    "    objs = []\n",
    "    e = None\n",
    "    try:\n",
    "        for obj in ijson.items(connection.stream(query), \"item\"):\n",
    "            objs.append(obj)\n",
    "    except (hpq.WebSocketClient.MidStreamError, hpq.WebSocketClient.RejectError) as ex:\n",
    "        e = ex\n",
    "    if e is None:\n",
    "        IPython.display.display(IPython.display.HTML(\"<h1>200 OK</h1>\"))\n",
    "    else:\n",
    "        http_status_code = html.escape(str(e.json[\"http_status_code\"]))\n",
    "        reason = html.escape(e.json[\"reason\"])\n",
    "        IPython.display.display(\n",
    "            IPython.display.HTML(f\"<h1>{http_status_code} {reason}</h1>\")\n",
    "        )\n",
    "        message = html.escape(e.json[\"message\"])\n",
    "        IPython.display.display(IPython.display.HTML(f\"<p>{message}</p>\"))\n",
    "        if isinstance(e, hpq.WebSocketClient.RejectError):\n",
    "            IPython.display.display(\n",
    "                IPython.display.HTML(f\"<p>Request was rejected</p>\")\n",
    "            )\n",
    "        else:\n",
    "            IPython.display.display(\n",
    "                IPython.display.HTML(f\"<p>Failure reported mid-response</p>\")\n",
    "            )\n",
    "            raw = html.escape(json.dumps(e.accepted))\n",
    "            IPython.display.display(IPython.display.HTML(f\"<pre>{raw}</pre>\"))\n",
    "        raw = html.escape(str(e))\n",
    "        IPython.display.display(IPython.display.HTML(f\"<pre>{raw}</pre>\"))\n",
    "    if len(objs) == 0:\n",
    "        IPython.display.display(IPython.display.HTML(f\"<p>No results</p>\"))\n",
    "    else:\n",
    "        table = tabulate.tabulate(\n",
    "            map(hpq.format, objs), tablefmt=\"html\", headers=\"keys\"\n",
    "        )\n",
    "        IPython.display.display(IPython.display.HTML(table))"
   ]
  },
  {
   "cell_type": "markdown",
   "metadata": {},
   "source": [
    "# Reject\n",
    "\n",
    "When an HPQ request is submitted to the API the API may reject the rquest without transitioning to the connection state wherein it transmits the response.\n",
    "\n",
    "This cell uses the `error` endpoint to request that the HPQ API simulate this behavior by unconditionally rejecting the request with a certain error message and HTTP status code. An exception is raised in response thereto which is caught and formatted by the `impl` function."
   ]
  },
  {
   "cell_type": "code",
   "execution_count": null,
   "metadata": {},
   "outputs": [],
   "source": [
    "import hpq\n",
    "\n",
    "connection = hpq.create_web_socket_client()\n",
    "impl(\n",
    "    connection,\n",
    "    {\n",
    "        \"query\": \"error\",\n",
    "        \"source\": \"cme\",\n",
    "        \"http_status_code\": 404,\n",
    "        \"message\": \"HPQ error handling demonstration\",\n",
    "    },\n",
    ")"
   ]
  },
  {
   "cell_type": "markdown",
   "metadata": {},
   "source": [
    "# Mid-Stream Error\n",
    "\n",
    "Since the HPQ API is streaming errors may be encountered after the initial opportunity to accept/reject detailed in the description of the previous cell. When this happens a so-called \"mid-stream error\" is transmitted.\n",
    "\n",
    "This cell uses the `error` endpoint to request that the HPQ API simulate a mid-stream error by ending the response in error early. In the first case the response ends immediately (without transmitting any part of the body) whereas in the second case some part of the body is transmitted before the error. In both cases an exception is raised in response which is caught and formatted by the `impl` function."
   ]
  },
  {
   "cell_type": "code",
   "execution_count": null,
   "metadata": {},
   "outputs": [],
   "source": [
    "import hpq\n",
    "import ijson\n",
    "import json\n",
    "\n",
    "connection = hpq.create_web_socket_client()\n",
    "impl(\n",
    "    connection, {\"query\": \"error\", \"source\": \"cme\", \"body\": \"\", \"http_status_code\": 500}\n",
    ")\n",
    "body = json.dumps(\n",
    "    list(\n",
    "        hpq.take(\n",
    "            10,\n",
    "            ijson.items(\n",
    "                connection.stream(\n",
    "                    {\n",
    "                        \"query\": \"ticks\",\n",
    "                        \"source\": \"cme\",\n",
    "                        \"product\": \"NGX2\",\n",
    "                        \"date\": \"2022-09-22\",\n",
    "                        \"start_time\": \"22:00:00\",\n",
    "                        \"end_time\": \"22:15:00\",\n",
    "                        \"time_zone\": \"UTC\",\n",
    "                        \"messages\": [\"TRD\"],\n",
    "                    }\n",
    "                ),\n",
    "                \"item\",\n",
    "            ),\n",
    "        )\n",
    "    )\n",
    ")\n",
    "connection.cancel()\n",
    "body = body[: len(body) - 1] + \",\"\n",
    "impl(\n",
    "    connection,\n",
    "    {\"query\": \"error\", \"source\": \"cme\", \"body\": body, \"http_status_code\": 500},\n",
    ")"
   ]
  }
 ],
 "metadata": {
  "kernelspec": {
   "display_name": "Python 3.8.10 ('.virtualenv': venv)",
   "language": "python",
   "name": "python3"
  },
  "language_info": {
   "codemirror_mode": {
    "name": "ipython",
    "version": 3
   },
   "file_extension": ".py",
   "mimetype": "text/x-python",
   "name": "python",
   "nbconvert_exporter": "python",
   "pygments_lexer": "ipython3",
   "version": "3.8.10"
  },
  "orig_nbformat": 4,
  "vscode": {
   "interpreter": {
    "hash": "0ea2b8895e81fdf91d242a88ba5aeb28630840827d8cbcc101eed9e19ad7d7de"
   }
  }
 },
 "nbformat": 4,
 "nbformat_minor": 2
}
