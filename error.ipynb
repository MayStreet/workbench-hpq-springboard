{
 "cells": [
  {
   "cell_type": "code",
   "execution_count": null,
   "metadata": {},
   "outputs": [],
   "source": [
    "import sys\n",
    "\n",
    "!{sys.executable} -m pip install ijson tabulate"
   ]
  },
  {
   "cell_type": "code",
   "execution_count": null,
   "metadata": {},
   "outputs": [],
   "source": [
    "import hpq\n",
    "import html\n",
    "import IPython.display\n",
    "import ijson\n",
    "import json\n",
    "import tabulate\n",
    "\n",
    "\n",
    "def impl(connection, query):\n",
    "    objs = []\n",
    "    e = None\n",
    "    try:\n",
    "        for obj in ijson.items(connection.stream(query), \"item\"):\n",
    "            objs.append(obj)\n",
    "    except (hpq.WebSocketClient.MidStreamError, hpq.WebSocketClient.RejectError) as ex:\n",
    "        e = ex\n",
    "    if e is None:\n",
    "        IPython.display.display(IPython.display.HTML(\"<h1>200 OK</h1>\"))\n",
    "    else:\n",
    "        http_status_code = html.escape(str(e.json[\"http_status_code\"]))\n",
    "        reason = html.escape(e.json[\"reason\"])\n",
    "        IPython.display.display(\n",
    "            IPython.display.HTML(f\"<h1>{http_status_code} {reason}</h1>\")\n",
    "        )\n",
    "        message = html.escape(e.json[\"message\"])\n",
    "        IPython.display.display(IPython.display.HTML(f\"<p>{message}</p>\"))\n",
    "        if isinstance(e, hpq.WebSocketClient.RejectError):\n",
    "            IPython.display.display(\n",
    "                IPython.display.HTML(f\"<p>Request was rejected</p>\")\n",
    "            )\n",
    "        else:\n",
    "            IPython.display.display(\n",
    "                IPython.display.HTML(f\"<p>Failure reported mid-response</p>\")\n",
    "            )\n",
    "            raw = html.escape(json.dumps(e.accepted))\n",
    "            IPython.display.display(IPython.display.HTML(f\"<pre>{raw}</pre>\"))\n",
    "        raw = html.escape(str(e))\n",
    "        IPython.display.display(IPython.display.HTML(f\"<pre>{raw}</pre>\"))\n",
    "    if len(objs) == 0:\n",
    "        IPython.display.display(IPython.display.HTML(f\"<p>No results</p>\"))\n",
    "    else:\n",
    "        table = tabulate.tabulate(\n",
    "            map(hpq.format, objs), tablefmt=\"html\", headers=\"keys\"\n",
    "        )\n",
    "        IPython.display.display(IPython.display.HTML(table))\n",
    "\n",
    "\n",
    "def take(num, iter):\n",
    "    count = 0\n",
    "    for obj in iter:\n",
    "        if count == num:\n",
    "            return\n",
    "        yield obj\n",
    "        count += 1"
   ]
  },
  {
   "cell_type": "code",
   "execution_count": null,
   "metadata": {},
   "outputs": [],
   "source": [
    "import hpq\n",
    "\n",
    "connection = hpq.create_web_socket_client()\n",
    "impl(\n",
    "    connection,\n",
    "    {\n",
    "        \"query\": \"error\",\n",
    "        \"source\": \"cme\",\n",
    "        \"http_status_code\": 404,\n",
    "        \"message\": \"HPQ error handling demonstration\",\n",
    "    },\n",
    ")"
   ]
  },
  {
   "cell_type": "code",
   "execution_count": null,
   "metadata": {},
   "outputs": [],
   "source": [
    "import hpq\n",
    "import ijson\n",
    "import json\n",
    "\n",
    "connection = hpq.create_web_socket_client()\n",
    "impl(\n",
    "    connection, {\"query\": \"error\", \"source\": \"cme\", \"body\": \"\", \"http_status_code\": 500}\n",
    ")\n",
    "body = json.dumps(\n",
    "    list(\n",
    "        take(\n",
    "            10,\n",
    "            ijson.items(\n",
    "                connection.stream(\n",
    "                    {\n",
    "                        \"query\": \"ticks\",\n",
    "                        \"source\": \"cme\",\n",
    "                        \"product\": \"NGX2\",\n",
    "                        \"date\": \"2022-09-22\",\n",
    "                        \"start_time\": \"22:00:00\",\n",
    "                        \"end_time\": \"22:15:00\",\n",
    "                        \"time_zone\": \"UTC\",\n",
    "                        \"messages\": [\"TRD\"],\n",
    "                    }\n",
    "                ),\n",
    "                \"item\",\n",
    "            ),\n",
    "        )\n",
    "    )\n",
    ")\n",
    "connection.cancel()\n",
    "body = body[: len(body) - 1] + \",\"\n",
    "impl(\n",
    "    connection,\n",
    "    {\"query\": \"error\", \"source\": \"cme\", \"body\": body, \"http_status_code\": 500},\n",
    ")"
   ]
  }
 ],
 "metadata": {
  "kernelspec": {
   "display_name": "Python 3.8.10 ('.virtualenv': venv)",
   "language": "python",
   "name": "python3"
  },
  "language_info": {
   "codemirror_mode": {
    "name": "ipython",
    "version": 3
   },
   "file_extension": ".py",
   "mimetype": "text/x-python",
   "name": "python",
   "nbconvert_exporter": "python",
   "pygments_lexer": "ipython3",
   "version": "3.8.10"
  },
  "orig_nbformat": 4,
  "vscode": {
   "interpreter": {
    "hash": "0ea2b8895e81fdf91d242a88ba5aeb28630840827d8cbcc101eed9e19ad7d7de"
   }
  }
 },
 "nbformat": 4,
 "nbformat_minor": 2
}
