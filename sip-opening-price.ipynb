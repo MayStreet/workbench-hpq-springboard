{
 "cells": [
  {
   "cell_type": "markdown",
   "metadata": {},
   "source": [
    "# Summary\n",
    "An example showing how to calculate the opening price of a security before the end of day statistics are published or on a feed like UTDF where the opening_price isn't sent as part of the end of day statistics"
   ]
  },
  {
   "cell_type": "markdown",
   "metadata": {},
   "source": [
    "Trades for MSFT from 09:30 - 09:31 are requested on days 2023-01-09 and 2023-01-10.\n",
    "The trades are filtered on several sale_condition values to correctly determine the opening price of the security"
   ]
  },
  {
   "cell_type": "code",
   "execution_count": null,
   "metadata": {},
   "outputs": [],
   "source": [
    "import hpq\n",
    "import datetime\n",
    "import ijson\n",
    "\n",
    "for day in range(2):\n",
    "    # 2022-01-10 09:30:00+00:00\n",
    "    start = datetime.datetime.fromtimestamp(\n",
    "        1673361000 - 86400 * day, datetime.timezone.utc\n",
    "    )\n",
    "    # 2022-01-23 09:31:00+00:00\n",
    "    end = datetime.datetime.fromtimestamp(\n",
    "        1673361060 - 86400 * day, datetime.timezone.utc\n",
    "    )\n",
    "    connection = hpq.create_web_socket_client()\n",
    "    request = {\n",
    "        \"query\": \"ticks\",\n",
    "        \"source\": \"sip\",\n",
    "        \"messages\": [\"TRD\"],\n",
    "        \"product\": \"MSFT\",\n",
    "        \"time_zone\": \"UTC\",\n",
    "        \"start_date\": start.strftime(\"%Y-%m-%d\"),\n",
    "        \"end_date\": end.strftime(\"%Y-%m-%d\"),\n",
    "        \"start_time\": start.strftime(\"%H:%M:%S\"),\n",
    "        \"end_time\": end.strftime(\"%H:%M:%S\"),\n",
    "    }\n",
    "\n",
    "    for trade in ijson.items(connection.stream(request), \"item\"):\n",
    "        if trade[\"sale_condition\"] is not None:\n",
    "            if (\n",
    "                trade[\"sale_condition\"] == \"CashTrade\"\n",
    "                or trade[\"sale_condition\"] == \"NextDayTrade\"\n",
    "                or trade[\"sale_condition\"] == \"Seller\"\n",
    "            ):\n",
    "                # Not an opening trade\n",
    "                print(trade)\n",
    "                continue\n",
    "\n",
    "        if trade[\"sale_condition2\"] is not None:\n",
    "            if (\n",
    "                trade[\"sale_condition2\"] == \"DerivativelyPriced\"\n",
    "                or trade[\"sale_condition2\"] == \"QualifiedContingentTrade\"\n",
    "            ):\n",
    "                # Not an opening trade\n",
    "                print(trade)\n",
    "                continue\n",
    "\n",
    "        if trade[\"sale_condition3\"] is not None:\n",
    "            if (\n",
    "                trade[\"sale_condition3\"] == \"FormT\"\n",
    "                or trade[\"sale_condition3\"] == \"SoldOutOfSequence\"\n",
    "                or trade[\"sale_condition3\"] == \"ExtendedHoursTradeOutOfSequence\"\n",
    "                or trade[\"sale_condition3\"] == \"ExtendedHoursTrade\"\n",
    "            ):\n",
    "                # Not an opening trade\n",
    "                continue\n",
    "\n",
    "        if trade[\"sale_condition4\"] is not None:\n",
    "            if (\n",
    "                trade[\"sale_condition4\"] == \"BunchedSoldTrade\"\n",
    "                or trade[\"sale_condition4\"] == \"OddLotTrade\"\n",
    "                or trade[\"sale_condition4\"] == \"PriceVariationTrade\"\n",
    "                or trade[\"sale_condition4\"] == \"MarketCenterOfficialOpen\"\n",
    "                or trade[\"sale_condition4\"] == \"MarketCenterOfficialClose\"\n",
    "                or trade[\"sale_condition4\"] == \"PriorReferencePrice\"\n",
    "                or trade[\"sale_condition4\"] == \"ContingentTrade\"\n",
    "                or trade[\"sale_condition4\"] == \"AveragePriceTrade\"\n",
    "            ):\n",
    "                # Not an opening trade\n",
    "                continue\n",
    "        print(\n",
    "            datetime.datetime.fromtimestamp(\n",
    "                trade[\"exchange_timestamp\"] / 1000000000, datetime.timezone.utc\n",
    "            ),\n",
    "            \", \",\n",
    "            trade[\"price\"],\n",
    "        )\n",
    "        break"
   ]
  }
 ],
 "metadata": {
  "kernelspec": {
   "display_name": "Python 3.8.10 ('.virtualenv': venv)",
   "language": "python",
   "name": "python3"
  },
  "language_info": {
   "codemirror_mode": {
    "name": "ipython",
    "version": 3
   },
   "file_extension": ".py",
   "mimetype": "text/x-python",
   "name": "python",
   "nbconvert_exporter": "python",
   "pygments_lexer": "ipython3",
   "version": "3.8.10"
  },
  "orig_nbformat": 4,
  "vscode": {
   "interpreter": {
    "hash": "0ea2b8895e81fdf91d242a88ba5aeb28630840827d8cbcc101eed9e19ad7d7de"
   }
  }
 },
 "nbformat": 4,
 "nbformat_minor": 2
}
