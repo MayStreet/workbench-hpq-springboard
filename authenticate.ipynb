{
 "cells": [
  {
   "cell_type": "code",
   "execution_count": null,
   "metadata": {},
   "outputs": [],
   "source": [
    "import sys\n",
    "!{sys.executable} -m pip install ijson tabulate"
   ]
  },
  {
   "cell_type": "code",
   "execution_count": null,
   "metadata": {},
   "outputs": [],
   "source": [
    "secret = ''"
   ]
  },
  {
   "cell_type": "code",
   "execution_count": null,
   "metadata": {},
   "outputs": [],
   "source": [
    "import hpq\n",
    "import ijson\n",
    "import IPython.display\n",
    "import tabulate\n",
    "\n",
    "connection = hpq.WebSocketClient()\n",
    "connection.url = 'wss://mdx.maystreet.com'\n",
    "if len(secret) > 0:\n",
    "    connection.connect_opts['header'] = [f\"Authorization: MayStreet-Data-Lake-Secret {secret}\"]\n",
    "def transform(order):\n",
    "    #   Always \"add_order\" so doesn't add any information\n",
    "    del order['type']\n",
    "    return hpq.format(order)\n",
    "snapshot = list(map(transform, ijson.items(connection.stream({\n",
    "    \"query\": \"snapshot\",\n",
    "    \"product\": \"ESZ2\",\n",
    "    \"source\": \"cme\",\n",
    "    \"date\": \"2022-10-14\",\n",
    "    \"time\": \"17:00:00\",\n",
    "    \"type\": \"orders\"\n",
    "}), 'item')))\n",
    "table = tabulate.tabulate(snapshot, tablefmt = 'html', headers = 'keys')\n",
    "IPython.display.display(IPython.display.HTML(table))"
   ]
  }
 ],
 "metadata": {
  "kernelspec": {
   "display_name": "Python 3.8.10 ('.virtualenv': venv)",
   "language": "python",
   "name": "python3"
  },
  "language_info": {
   "codemirror_mode": {
    "name": "ipython",
    "version": 3
   },
   "file_extension": ".py",
   "mimetype": "text/x-python",
   "name": "python",
   "nbconvert_exporter": "python",
   "pygments_lexer": "ipython3",
   "version": "3.8.10"
  },
  "orig_nbformat": 4,
  "vscode": {
   "interpreter": {
    "hash": "0ea2b8895e81fdf91d242a88ba5aeb28630840827d8cbcc101eed9e19ad7d7de"
   }
  }
 },
 "nbformat": 4,
 "nbformat_minor": 2
}
