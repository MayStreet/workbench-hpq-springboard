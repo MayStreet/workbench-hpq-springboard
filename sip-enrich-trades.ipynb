{
 "cells": [
  {
   "cell_type": "markdown",
   "metadata": {},
   "source": [
    "# Summary\n",
    "Given a trade represented by the ticker symbol, date and match_id, get the trade's exchange_timestamp and enrich with BBO (from certain venues) and NBBO just before the trade "
   ]
  },
  {
   "cell_type": "markdown",
   "metadata": {},
   "source": [
    "Add the necessary imports"
   ]
  },
  {
   "cell_type": "code",
   "execution_count": null,
   "metadata": {},
   "outputs": [],
   "source": [
    "import datetime\n",
    "import hpq\n",
    "import ijson\n",
    "import numpy"
   ]
  },
  {
   "cell_type": "markdown",
   "metadata": {},
   "source": [
    "A trade denoted by the security, match_id and approximate time of the trade is received. All times in UTC."
   ]
  },
  {
   "cell_type": "code",
   "execution_count": null,
   "metadata": {},
   "outputs": [],
   "source": [
    "match_id_of_trade = 52983542269494\n",
    "security = \"XOM\"\n",
    "apprx_date_time_of_trade = datetime.datetime(2023, 1, 10, 17, 10, 50, 40400)\n",
    "print(apprx_date_time_of_trade)"
   ]
  },
  {
   "cell_type": "markdown",
   "metadata": {},
   "source": [
    "Query for trades starting from 15 minutes before the approximate trade time to the approximate trade time. Identify the trade using match_id and store the exchange_timestamp of the trade"
   ]
  },
  {
   "cell_type": "code",
   "execution_count": null,
   "metadata": {},
   "outputs": [],
   "source": [
    "connection = hpq.create_web_socket_client()\n",
    "request = {\n",
    "    \"query\": \"ticks\",\n",
    "    \"messages\": \"TRD\",\n",
    "    \"source\": \"sip\",\n",
    "    \"product\": security,\n",
    "    \"time_zone\": \"UTC\",\n",
    "    \"date\": apprx_date_time_of_trade.strftime(\"%Y-%m-%d\"),\n",
    "    \"start_time\": (apprx_date_time_of_trade - datetime.timedelta(minutes=15)).strftime(\n",
    "        \"%H:%M:%S.%f\"\n",
    "    ),\n",
    "    \"end_time\": apprx_date_time_of_trade.strftime(\"%H:%M:%S.%f\"),\n",
    "}\n",
    "\n",
    "trades = ijson.items(connection.stream(request), \"item\")\n",
    "trade_exch_timestamp = 0\n",
    "for item in trades:\n",
    "    if item[\"match_id\"] == match_id_of_trade:\n",
    "        print(item)\n",
    "        trade_exch_timestamp = item[\"exchange_timestamp\"]"
   ]
  },
  {
   "cell_type": "markdown",
   "metadata": {},
   "source": [
    "Request a snapshot of bbo_quotes from 1 nanosecond before the trade's exchange_timestamp"
   ]
  },
  {
   "cell_type": "code",
   "execution_count": null,
   "metadata": {},
   "outputs": [],
   "source": [
    "trade_exch_timestamp -= 1\n",
    "trade_date_time = numpy.datetime64(trade_exch_timestamp, \"ns\")\n",
    "\n",
    "snap_request = {\n",
    "    \"query\": \"snapshot\",\n",
    "    \"type\": \"bbo_quotes\",\n",
    "    \"source\": \"sip[nyse,nysearca,bats,nasdaqomx]\",\n",
    "    \"product\": \"XOM\",\n",
    "    \"time_zone\": \"UTC\",\n",
    "    \"date\": numpy.datetime_as_string(trade_date_time, \"D\", \"UTC\"),\n",
    "    \"time\": trade_date_time.astype(str)[11:29],\n",
    "}\n",
    "\n",
    "snapshot = ijson.items(connection.stream(snap_request), \"item\")\n",
    "for item in snapshot:\n",
    "    print(item[\"market_participant\"])\n",
    "    print(\"  bid_px\", item[\"bid_price\"])\n",
    "    print(\"  bid_qty\", item[\"bid_quantity\"])\n",
    "    print(\"  ask_px\", item[\"ask_price\"])\n",
    "    print(\"  ask_qty\", item[\"ask_quantity\"])"
   ]
  },
  {
   "cell_type": "markdown",
   "metadata": {},
   "source": [
    "Request a snapshot of the nbbo quote"
   ]
  },
  {
   "cell_type": "code",
   "execution_count": null,
   "metadata": {},
   "outputs": [],
   "source": [
    "snap_request[\"type\"] = \"nbbo_quotes\"\n",
    "snap_request[\"source\"] = \"sip\"\n",
    "nbbo_snapshot = ijson.items(connection.stream(snap_request), \"item\")\n",
    "print(\"NBBO\")\n",
    "for item in nbbo_snapshot:\n",
    "    print(\"  bid_px\", item[\"bid_price\"])\n",
    "    print(\"  bid_qty\", item[\"bid_quantity\"])\n",
    "    print(\"  ask_px\", item[\"ask_price\"])\n",
    "    print(\"  ask_qty\", item[\"ask_quantity\"])"
   ]
  }
 ],
 "metadata": {
  "kernelspec": {
   "display_name": "Python 3.8.10 ('.virtualenv': venv)",
   "language": "python",
   "name": "python3"
  },
  "language_info": {
   "codemirror_mode": {
    "name": "ipython",
    "version": 3
   },
   "file_extension": ".py",
   "mimetype": "text/x-python",
   "name": "python",
   "nbconvert_exporter": "python",
   "pygments_lexer": "ipython3",
   "version": "3.8.10"
  },
  "orig_nbformat": 4,
  "vscode": {
   "interpreter": {
    "hash": "0ea2b8895e81fdf91d242a88ba5aeb28630840827d8cbcc101eed9e19ad7d7de"
   }
  }
 },
 "nbformat": 4,
 "nbformat_minor": 2
}
