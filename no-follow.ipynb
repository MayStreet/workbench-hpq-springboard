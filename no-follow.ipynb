{
 "cells": [
  {
   "cell_type": "code",
   "execution_count": null,
   "metadata": {},
   "outputs": [],
   "source": [
    "import datetime\n",
    "import ijson\n",
    "import IPython\n",
    "import hpq\n",
    "import tabulate\n",
    "\n",
    "conn = hpq.create_web_socket_client()\n",
    "now = datetime.datetime.now(datetime.timezone.utc)\n",
    "start = now - datetime.timedelta(minutes=20)\n",
    "request = {\n",
    "    \"query\": \"ticks\",\n",
    "    \"source\": \"cme\",\n",
    "    \"product\": \"ESZ\" + now.strftime(\"%Y\")[3:],\n",
    "    \"start_time\": start.strftime(\"%H:%M:%S\"),\n",
    "    \"end_time\": now.strftime(\"%H:%M:%S\"),\n",
    "    \"time_zone\": \"UTC\",\n",
    "    \"start_date\": start.strftime(\"%Y-%m-%d\"),\n",
    "    \"end_date\": now.strftime(\"%Y-%m-%d\"),\n",
    "    \"messages\": [\"TRD\", \"ADD\", \"MOD\", \"LVL\", \"STA\"],\n",
    "}\n",
    "ticks = []\n",
    "no_follow = None\n",
    "count = 20\n",
    "actual = 0\n",
    "for e in ijson.items(conn.stream(request), \"item\"):\n",
    "    if e[\"type\"] == \"no_follow\":\n",
    "        no_follow = e\n",
    "        break\n",
    "    if e[\"type\"] == \"trade\" and not e[\"printable\"]:\n",
    "        continue\n",
    "    actual += 1\n",
    "    if len(ticks) > count:\n",
    "        ticks.pop(0)\n",
    "    ticks.append(e)\n",
    "start_formatted = start.strftime(\"%Y-%m-%dT%H:%M:%SZ\")\n",
    "now_formatted = now.strftime(\"%Y-%m-%dT%H:%M:%SZ\")\n",
    "IPython.display.display(\n",
    "    IPython.display.HTML(f\"<h1>{start_formatted} to {now_formatted}</h1>\")\n",
    ")\n",
    "IPython.display.display(\n",
    "    IPython.display.HTML(\n",
    "        f\"<p>Most recent {count} results shown (actual result set is {actual} results)</p>\"\n",
    "    )\n",
    ")\n",
    "if no_follow is not None:\n",
    "    up_to_formatted = hpq.format_timestamp(no_follow[\"most_recent_known_timestamp\"])\n",
    "    IPython.display.display(\n",
    "        IPython.display.HTML(\n",
    "            f\"<p>Due to near time nature of HPQ only data up to {up_to_formatted} (inclusive) is available, query again later for more recent ticks</p>\"\n",
    "        )\n",
    "    )\n",
    "ticks = map(hpq.format, ticks)\n",
    "table = tabulate.tabulate(ticks, tablefmt=\"html\", headers=\"keys\")\n",
    "IPython.display.display(IPython.display.HTML(table))"
   ]
  }
 ],
 "metadata": {
  "kernelspec": {
   "display_name": "Python 3.8.10 ('.virtualenv': venv)",
   "language": "python",
   "name": "python3"
  },
  "language_info": {
   "codemirror_mode": {
    "name": "ipython",
    "version": 3
   },
   "file_extension": ".py",
   "mimetype": "text/x-python",
   "name": "python",
   "nbconvert_exporter": "python",
   "pygments_lexer": "ipython3",
   "version": "3.8.10"
  },
  "orig_nbformat": 4,
  "vscode": {
   "interpreter": {
    "hash": "0ea2b8895e81fdf91d242a88ba5aeb28630840827d8cbcc101eed9e19ad7d7de"
   }
  }
 },
 "nbformat": 4,
 "nbformat_minor": 2
}
